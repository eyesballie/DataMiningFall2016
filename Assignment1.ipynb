{
 "cells": [
  {
   "cell_type": "markdown",
   "metadata": {},
   "source": [
    "# Exploring the MovieLens 1M Dataset"
   ]
  },
  {
   "cell_type": "markdown",
   "metadata": {},
   "source": [
    "#### Extrated (and slightly modified) from *Python for Data Analysis (Wes McKinney)*"
   ]
  },
  {
   "cell_type": "markdown",
   "metadata": {},
   "source": [
    "This dataset contains 1 million ratings collected from 6000 users on 4000 movies, and it is organized into three tables:\n",
    "\n",
    "\n",
    "*   Ratings\n",
    "*   Users\n",
    "*   Movie information\n",
    "\n",
    "Each table is available as a separate file, each containing a series of rows where columns are separated by *::*\n",
    "\n",
    "\n",
    "[Download the dataset here](http://files.grouplens.org/datasets/movielens/ml-1m.zip)\n",
    "\n",
    "This example illustrates a series of interesting things that we can learn from this dataset. Most operations will be performed using the pandas library. For more details, please refer to *Python for Data Analysis - page 26*."
   ]
  },
  {
   "cell_type": "markdown",
   "metadata": {},
   "source": [
    "## **Code**"
   ]
  },
  {
   "cell_type": "markdown",
   "metadata": {},
   "source": [
    "Let's begin by importing pandas. It is conventional to use *pd* to denote pandas"
   ]
  },
  {
   "cell_type": "code",
   "execution_count": 3,
   "metadata": {
    "collapsed": false
   },
   "outputs": [],
   "source": [
    "import pandas as pd"
   ]
  },
  {
   "cell_type": "markdown",
   "metadata": {},
   "source": [
    "Next we will import each of the three tables and assign names to each of the columns:"
   ]
  },
  {
   "cell_type": "code",
   "execution_count": 4,
   "metadata": {
    "collapsed": false
   },
   "outputs": [],
   "source": [
    "unames = ['user_id', 'gender', 'age', 'occupation', 'zip']\n",
    "users = pd.read_table('ml-1m/users.dat', sep='::', header=None, names=unames, engine='python')\n",
    "\n",
    "rnames = ['user_id', 'movie_id', 'rating', 'timestamp']\n",
    "ratings = pd.read_table('ml-1m/ratings.dat', sep='::', header=None, names=rnames, engine='python')\n",
    "\n",
    "mnames = ['movie_id', 'title', 'genres']\n",
    "movies = pd.read_table('ml-1m/movies.dat', sep='::', header=None, names=mnames, engine='python')\n"
   ]
  },
  {
   "cell_type": "markdown",
   "metadata": {},
   "source": [
    "Let's take a look at the first 5 rows of each table:"
   ]
  },
  {
   "cell_type": "code",
   "execution_count": 5,
   "metadata": {
    "collapsed": false
   },
   "outputs": [
    {
     "data": {
      "text/html": [
       "<div>\n",
       "<table border=\"1\" class=\"dataframe\">\n",
       "  <thead>\n",
       "    <tr style=\"text-align: right;\">\n",
       "      <th></th>\n",
       "      <th>user_id</th>\n",
       "      <th>gender</th>\n",
       "      <th>age</th>\n",
       "      <th>occupation</th>\n",
       "      <th>zip</th>\n",
       "    </tr>\n",
       "  </thead>\n",
       "  <tbody>\n",
       "    <tr>\n",
       "      <th>0</th>\n",
       "      <td>1</td>\n",
       "      <td>F</td>\n",
       "      <td>1</td>\n",
       "      <td>10</td>\n",
       "      <td>48067</td>\n",
       "    </tr>\n",
       "    <tr>\n",
       "      <th>1</th>\n",
       "      <td>2</td>\n",
       "      <td>M</td>\n",
       "      <td>56</td>\n",
       "      <td>16</td>\n",
       "      <td>70072</td>\n",
       "    </tr>\n",
       "    <tr>\n",
       "      <th>2</th>\n",
       "      <td>3</td>\n",
       "      <td>M</td>\n",
       "      <td>25</td>\n",
       "      <td>15</td>\n",
       "      <td>55117</td>\n",
       "    </tr>\n",
       "    <tr>\n",
       "      <th>3</th>\n",
       "      <td>4</td>\n",
       "      <td>M</td>\n",
       "      <td>45</td>\n",
       "      <td>7</td>\n",
       "      <td>02460</td>\n",
       "    </tr>\n",
       "    <tr>\n",
       "      <th>4</th>\n",
       "      <td>5</td>\n",
       "      <td>M</td>\n",
       "      <td>25</td>\n",
       "      <td>20</td>\n",
       "      <td>55455</td>\n",
       "    </tr>\n",
       "  </tbody>\n",
       "</table>\n",
       "</div>"
      ],
      "text/plain": [
       "   user_id gender  age  occupation    zip\n",
       "0        1      F    1          10  48067\n",
       "1        2      M   56          16  70072\n",
       "2        3      M   25          15  55117\n",
       "3        4      M   45           7  02460\n",
       "4        5      M   25          20  55455"
      ]
     },
     "execution_count": 5,
     "metadata": {},
     "output_type": "execute_result"
    }
   ],
   "source": [
    "users[:5]"
   ]
  },
  {
   "cell_type": "code",
   "execution_count": 6,
   "metadata": {
    "collapsed": false
   },
   "outputs": [
    {
     "data": {
      "text/html": [
       "<div>\n",
       "<table border=\"1\" class=\"dataframe\">\n",
       "  <thead>\n",
       "    <tr style=\"text-align: right;\">\n",
       "      <th></th>\n",
       "      <th>user_id</th>\n",
       "      <th>movie_id</th>\n",
       "      <th>rating</th>\n",
       "      <th>timestamp</th>\n",
       "    </tr>\n",
       "  </thead>\n",
       "  <tbody>\n",
       "    <tr>\n",
       "      <th>0</th>\n",
       "      <td>1</td>\n",
       "      <td>1193</td>\n",
       "      <td>5</td>\n",
       "      <td>978300760</td>\n",
       "    </tr>\n",
       "    <tr>\n",
       "      <th>1</th>\n",
       "      <td>1</td>\n",
       "      <td>661</td>\n",
       "      <td>3</td>\n",
       "      <td>978302109</td>\n",
       "    </tr>\n",
       "    <tr>\n",
       "      <th>2</th>\n",
       "      <td>1</td>\n",
       "      <td>914</td>\n",
       "      <td>3</td>\n",
       "      <td>978301968</td>\n",
       "    </tr>\n",
       "    <tr>\n",
       "      <th>3</th>\n",
       "      <td>1</td>\n",
       "      <td>3408</td>\n",
       "      <td>4</td>\n",
       "      <td>978300275</td>\n",
       "    </tr>\n",
       "    <tr>\n",
       "      <th>4</th>\n",
       "      <td>1</td>\n",
       "      <td>2355</td>\n",
       "      <td>5</td>\n",
       "      <td>978824291</td>\n",
       "    </tr>\n",
       "  </tbody>\n",
       "</table>\n",
       "</div>"
      ],
      "text/plain": [
       "   user_id  movie_id  rating  timestamp\n",
       "0        1      1193       5  978300760\n",
       "1        1       661       3  978302109\n",
       "2        1       914       3  978301968\n",
       "3        1      3408       4  978300275\n",
       "4        1      2355       5  978824291"
      ]
     },
     "execution_count": 6,
     "metadata": {},
     "output_type": "execute_result"
    }
   ],
   "source": [
    "ratings[:5]"
   ]
  },
  {
   "cell_type": "code",
   "execution_count": 7,
   "metadata": {
    "collapsed": false
   },
   "outputs": [
    {
     "data": {
      "text/html": [
       "<div>\n",
       "<table border=\"1\" class=\"dataframe\">\n",
       "  <thead>\n",
       "    <tr style=\"text-align: right;\">\n",
       "      <th></th>\n",
       "      <th>movie_id</th>\n",
       "      <th>title</th>\n",
       "      <th>genres</th>\n",
       "    </tr>\n",
       "  </thead>\n",
       "  <tbody>\n",
       "    <tr>\n",
       "      <th>0</th>\n",
       "      <td>1</td>\n",
       "      <td>Toy Story (1995)</td>\n",
       "      <td>Animation|Children's|Comedy</td>\n",
       "    </tr>\n",
       "    <tr>\n",
       "      <th>1</th>\n",
       "      <td>2</td>\n",
       "      <td>Jumanji (1995)</td>\n",
       "      <td>Adventure|Children's|Fantasy</td>\n",
       "    </tr>\n",
       "    <tr>\n",
       "      <th>2</th>\n",
       "      <td>3</td>\n",
       "      <td>Grumpier Old Men (1995)</td>\n",
       "      <td>Comedy|Romance</td>\n",
       "    </tr>\n",
       "    <tr>\n",
       "      <th>3</th>\n",
       "      <td>4</td>\n",
       "      <td>Waiting to Exhale (1995)</td>\n",
       "      <td>Comedy|Drama</td>\n",
       "    </tr>\n",
       "    <tr>\n",
       "      <th>4</th>\n",
       "      <td>5</td>\n",
       "      <td>Father of the Bride Part II (1995)</td>\n",
       "      <td>Comedy</td>\n",
       "    </tr>\n",
       "  </tbody>\n",
       "</table>\n",
       "</div>"
      ],
      "text/plain": [
       "   movie_id                               title                        genres\n",
       "0         1                    Toy Story (1995)   Animation|Children's|Comedy\n",
       "1         2                      Jumanji (1995)  Adventure|Children's|Fantasy\n",
       "2         3             Grumpier Old Men (1995)                Comedy|Romance\n",
       "3         4            Waiting to Exhale (1995)                  Comedy|Drama\n",
       "4         5  Father of the Bride Part II (1995)                        Comedy"
      ]
     },
     "execution_count": 7,
     "metadata": {},
     "output_type": "execute_result"
    }
   ],
   "source": [
    "movies[:5]"
   ]
  },
  {
   "cell_type": "markdown",
   "metadata": {},
   "source": [
    "Having all information spread across different tables makes it much more dificult to analyse the data. Using pandas's merge function, we first merge ratings with users then we merge that result with the movies data. pandas infers which columns to\n",
    "use as the merge (or join) keys based on overlapping names:"
   ]
  },
  {
   "cell_type": "code",
   "execution_count": 8,
   "metadata": {
    "collapsed": false
   },
   "outputs": [],
   "source": [
    "data = pd.merge(pd.merge(ratings, users), movies)"
   ]
  },
  {
   "cell_type": "markdown",
   "metadata": {},
   "source": [
    "Below is the first row in that dataset"
   ]
  },
  {
   "cell_type": "code",
   "execution_count": 9,
   "metadata": {
    "collapsed": false
   },
   "outputs": [
    {
     "data": {
      "text/html": [
       "<div>\n",
       "<table border=\"1\" class=\"dataframe\">\n",
       "  <thead>\n",
       "    <tr style=\"text-align: right;\">\n",
       "      <th></th>\n",
       "      <th>user_id</th>\n",
       "      <th>movie_id</th>\n",
       "      <th>rating</th>\n",
       "      <th>timestamp</th>\n",
       "      <th>gender</th>\n",
       "      <th>age</th>\n",
       "      <th>occupation</th>\n",
       "      <th>zip</th>\n",
       "      <th>title</th>\n",
       "      <th>genres</th>\n",
       "    </tr>\n",
       "  </thead>\n",
       "  <tbody>\n",
       "    <tr>\n",
       "      <th>0</th>\n",
       "      <td>1</td>\n",
       "      <td>1193</td>\n",
       "      <td>5</td>\n",
       "      <td>978300760</td>\n",
       "      <td>F</td>\n",
       "      <td>1</td>\n",
       "      <td>10</td>\n",
       "      <td>48067</td>\n",
       "      <td>One Flew Over the Cuckoo's Nest (1975)</td>\n",
       "      <td>Drama</td>\n",
       "    </tr>\n",
       "  </tbody>\n",
       "</table>\n",
       "</div>"
      ],
      "text/plain": [
       "   user_id  movie_id  rating  timestamp gender  age  occupation    zip  \\\n",
       "0        1      1193       5  978300760      F    1          10  48067   \n",
       "\n",
       "                                    title genres  \n",
       "0  One Flew Over the Cuckoo's Nest (1975)  Drama  "
      ]
     },
     "execution_count": 9,
     "metadata": {},
     "output_type": "execute_result"
    }
   ],
   "source": [
    "data.head(1)"
   ]
  },
  {
   "cell_type": "markdown",
   "metadata": {},
   "source": [
    "In this form, aggregating the ratings grouped by one or more user or movie characteristics is straightforward once you build some familiarity with pandas. To get mean movie ratings for each film grouped by gender, we can use the pivot_table method:\n"
   ]
  },
  {
   "cell_type": "code",
   "execution_count": 10,
   "metadata": {
    "collapsed": false
   },
   "outputs": [],
   "source": [
    "mean_ratings = data.pivot_table('rating', index='title', columns='gender', aggfunc='mean')"
   ]
  },
  {
   "cell_type": "code",
   "execution_count": 11,
   "metadata": {
    "collapsed": false
   },
   "outputs": [
    {
     "data": {
      "text/html": [
       "<div>\n",
       "<table border=\"1\" class=\"dataframe\">\n",
       "  <thead>\n",
       "    <tr style=\"text-align: right;\">\n",
       "      <th>gender</th>\n",
       "      <th>F</th>\n",
       "      <th>M</th>\n",
       "    </tr>\n",
       "    <tr>\n",
       "      <th>title</th>\n",
       "      <th></th>\n",
       "      <th></th>\n",
       "    </tr>\n",
       "  </thead>\n",
       "  <tbody>\n",
       "    <tr>\n",
       "      <th>$1,000,000 Duck (1971)</th>\n",
       "      <td>3.375000</td>\n",
       "      <td>2.761905</td>\n",
       "    </tr>\n",
       "    <tr>\n",
       "      <th>'Night Mother (1986)</th>\n",
       "      <td>3.388889</td>\n",
       "      <td>3.352941</td>\n",
       "    </tr>\n",
       "    <tr>\n",
       "      <th>'Til There Was You (1997)</th>\n",
       "      <td>2.675676</td>\n",
       "      <td>2.733333</td>\n",
       "    </tr>\n",
       "    <tr>\n",
       "      <th>'burbs, The (1989)</th>\n",
       "      <td>2.793478</td>\n",
       "      <td>2.962085</td>\n",
       "    </tr>\n",
       "    <tr>\n",
       "      <th>...And Justice for All (1979)</th>\n",
       "      <td>3.828571</td>\n",
       "      <td>3.689024</td>\n",
       "    </tr>\n",
       "  </tbody>\n",
       "</table>\n",
       "</div>"
      ],
      "text/plain": [
       "gender                                F         M\n",
       "title                                            \n",
       "$1,000,000 Duck (1971)         3.375000  2.761905\n",
       "'Night Mother (1986)           3.388889  3.352941\n",
       "'Til There Was You (1997)      2.675676  2.733333\n",
       "'burbs, The (1989)             2.793478  2.962085\n",
       "...And Justice for All (1979)  3.828571  3.689024"
      ]
     },
     "execution_count": 11,
     "metadata": {},
     "output_type": "execute_result"
    }
   ],
   "source": [
    "mean_ratings[:5]"
   ]
  },
  {
   "cell_type": "markdown",
   "metadata": {},
   "source": [
    "If we wish to only look at movies that received more than a certain number of ratings, we can group them as follows (here using 250 ratings):"
   ]
  },
  {
   "cell_type": "code",
   "execution_count": 12,
   "metadata": {
    "collapsed": false
   },
   "outputs": [],
   "source": [
    "ratings_by_title = data.groupby('title').size()"
   ]
  },
  {
   "cell_type": "code",
   "execution_count": 13,
   "metadata": {
    "collapsed": false
   },
   "outputs": [
    {
     "data": {
      "text/plain": [
       "title\n",
       "$1,000,000 Duck (1971)            37\n",
       "'Night Mother (1986)              70\n",
       "'Til There Was You (1997)         52\n",
       "'burbs, The (1989)               303\n",
       "...And Justice for All (1979)    199\n",
       "dtype: int64"
      ]
     },
     "execution_count": 13,
     "metadata": {},
     "output_type": "execute_result"
    }
   ],
   "source": [
    "ratings_by_title[:5]"
   ]
  },
  {
   "cell_type": "markdown",
   "metadata": {},
   "source": [
    "Let's now grab the titles of movies that were rated more than 250 times:"
   ]
  },
  {
   "cell_type": "code",
   "execution_count": 14,
   "metadata": {
    "collapsed": false
   },
   "outputs": [],
   "source": [
    "active_titles = ratings_by_title.index[ratings_by_title >= 250]"
   ]
  },
  {
   "cell_type": "code",
   "execution_count": 15,
   "metadata": {
    "collapsed": false
   },
   "outputs": [
    {
     "data": {
      "text/plain": [
       "Index([''burbs, The (1989)', '10 Things I Hate About You (1999)',\n",
       "       '101 Dalmatians (1961)', '101 Dalmatians (1996)',\n",
       "       '12 Angry Men (1957)'],\n",
       "      dtype='object', name='title')"
      ]
     },
     "execution_count": 15,
     "metadata": {},
     "output_type": "execute_result"
    }
   ],
   "source": [
    "active_titles[:5]"
   ]
  },
  {
   "cell_type": "markdown",
   "metadata": {},
   "source": [
    "The index of titles receiving at least 250 ratings can then be used to select rows from mean_ratings above:\n"
   ]
  },
  {
   "cell_type": "code",
   "execution_count": 16,
   "metadata": {
    "collapsed": false
   },
   "outputs": [],
   "source": [
    "mean_ratings = mean_ratings.ix[active_titles]"
   ]
  },
  {
   "cell_type": "code",
   "execution_count": 17,
   "metadata": {
    "collapsed": false
   },
   "outputs": [
    {
     "data": {
      "text/html": [
       "<div>\n",
       "<table border=\"1\" class=\"dataframe\">\n",
       "  <thead>\n",
       "    <tr style=\"text-align: right;\">\n",
       "      <th>gender</th>\n",
       "      <th>F</th>\n",
       "      <th>M</th>\n",
       "    </tr>\n",
       "    <tr>\n",
       "      <th>title</th>\n",
       "      <th></th>\n",
       "      <th></th>\n",
       "    </tr>\n",
       "  </thead>\n",
       "  <tbody>\n",
       "    <tr>\n",
       "      <th>'burbs, The (1989)</th>\n",
       "      <td>2.793478</td>\n",
       "      <td>2.962085</td>\n",
       "    </tr>\n",
       "    <tr>\n",
       "      <th>10 Things I Hate About You (1999)</th>\n",
       "      <td>3.646552</td>\n",
       "      <td>3.311966</td>\n",
       "    </tr>\n",
       "    <tr>\n",
       "      <th>101 Dalmatians (1961)</th>\n",
       "      <td>3.791444</td>\n",
       "      <td>3.500000</td>\n",
       "    </tr>\n",
       "    <tr>\n",
       "      <th>101 Dalmatians (1996)</th>\n",
       "      <td>3.240000</td>\n",
       "      <td>2.911215</td>\n",
       "    </tr>\n",
       "    <tr>\n",
       "      <th>12 Angry Men (1957)</th>\n",
       "      <td>4.184397</td>\n",
       "      <td>4.328421</td>\n",
       "    </tr>\n",
       "  </tbody>\n",
       "</table>\n",
       "</div>"
      ],
      "text/plain": [
       "gender                                    F         M\n",
       "title                                                \n",
       "'burbs, The (1989)                 2.793478  2.962085\n",
       "10 Things I Hate About You (1999)  3.646552  3.311966\n",
       "101 Dalmatians (1961)              3.791444  3.500000\n",
       "101 Dalmatians (1996)              3.240000  2.911215\n",
       "12 Angry Men (1957)                4.184397  4.328421"
      ]
     },
     "execution_count": 17,
     "metadata": {},
     "output_type": "execute_result"
    }
   ],
   "source": [
    "mean_ratings[:5]"
   ]
  },
  {
   "cell_type": "markdown",
   "metadata": {},
   "source": [
    "To see the top films among female viewers, we can sort by the F column in descending order:"
   ]
  },
  {
   "cell_type": "code",
   "execution_count": 18,
   "metadata": {
    "collapsed": false
   },
   "outputs": [],
   "source": [
    "top_female_ratings = mean_ratings.sort_values(by='F', ascending=False)"
   ]
  },
  {
   "cell_type": "code",
   "execution_count": 19,
   "metadata": {
    "collapsed": false
   },
   "outputs": [
    {
     "data": {
      "text/html": [
       "<div>\n",
       "<table border=\"1\" class=\"dataframe\">\n",
       "  <thead>\n",
       "    <tr style=\"text-align: right;\">\n",
       "      <th>gender</th>\n",
       "      <th>F</th>\n",
       "      <th>M</th>\n",
       "    </tr>\n",
       "    <tr>\n",
       "      <th>title</th>\n",
       "      <th></th>\n",
       "      <th></th>\n",
       "    </tr>\n",
       "  </thead>\n",
       "  <tbody>\n",
       "    <tr>\n",
       "      <th>Close Shave, A (1995)</th>\n",
       "      <td>4.644444</td>\n",
       "      <td>4.473795</td>\n",
       "    </tr>\n",
       "    <tr>\n",
       "      <th>Wrong Trousers, The (1993)</th>\n",
       "      <td>4.588235</td>\n",
       "      <td>4.478261</td>\n",
       "    </tr>\n",
       "    <tr>\n",
       "      <th>Sunset Blvd. (a.k.a. Sunset Boulevard) (1950)</th>\n",
       "      <td>4.572650</td>\n",
       "      <td>4.464589</td>\n",
       "    </tr>\n",
       "    <tr>\n",
       "      <th>Wallace &amp; Gromit: The Best of Aardman Animation (1996)</th>\n",
       "      <td>4.563107</td>\n",
       "      <td>4.385075</td>\n",
       "    </tr>\n",
       "    <tr>\n",
       "      <th>Schindler's List (1993)</th>\n",
       "      <td>4.562602</td>\n",
       "      <td>4.491415</td>\n",
       "    </tr>\n",
       "    <tr>\n",
       "      <th>Shawshank Redemption, The (1994)</th>\n",
       "      <td>4.539075</td>\n",
       "      <td>4.560625</td>\n",
       "    </tr>\n",
       "    <tr>\n",
       "      <th>Grand Day Out, A (1992)</th>\n",
       "      <td>4.537879</td>\n",
       "      <td>4.293255</td>\n",
       "    </tr>\n",
       "    <tr>\n",
       "      <th>To Kill a Mockingbird (1962)</th>\n",
       "      <td>4.536667</td>\n",
       "      <td>4.372611</td>\n",
       "    </tr>\n",
       "    <tr>\n",
       "      <th>Creature Comforts (1990)</th>\n",
       "      <td>4.513889</td>\n",
       "      <td>4.272277</td>\n",
       "    </tr>\n",
       "    <tr>\n",
       "      <th>Usual Suspects, The (1995)</th>\n",
       "      <td>4.513317</td>\n",
       "      <td>4.518248</td>\n",
       "    </tr>\n",
       "  </tbody>\n",
       "</table>\n",
       "</div>"
      ],
      "text/plain": [
       "gender                                                     F         M\n",
       "title                                                                 \n",
       "Close Shave, A (1995)                               4.644444  4.473795\n",
       "Wrong Trousers, The (1993)                          4.588235  4.478261\n",
       "Sunset Blvd. (a.k.a. Sunset Boulevard) (1950)       4.572650  4.464589\n",
       "Wallace & Gromit: The Best of Aardman Animation...  4.563107  4.385075\n",
       "Schindler's List (1993)                             4.562602  4.491415\n",
       "Shawshank Redemption, The (1994)                    4.539075  4.560625\n",
       "Grand Day Out, A (1992)                             4.537879  4.293255\n",
       "To Kill a Mockingbird (1962)                        4.536667  4.372611\n",
       "Creature Comforts (1990)                            4.513889  4.272277\n",
       "Usual Suspects, The (1995)                          4.513317  4.518248"
      ]
     },
     "execution_count": 19,
     "metadata": {},
     "output_type": "execute_result"
    }
   ],
   "source": [
    "top_female_ratings[:10]"
   ]
  },
  {
   "cell_type": "markdown",
   "metadata": {},
   "source": [
    "Likewise, for males:"
   ]
  },
  {
   "cell_type": "code",
   "execution_count": 20,
   "metadata": {
    "collapsed": false
   },
   "outputs": [],
   "source": [
    "top_male_ratings = mean_ratings.sort_values(by='M', ascending=False)"
   ]
  },
  {
   "cell_type": "code",
   "execution_count": 21,
   "metadata": {
    "collapsed": false
   },
   "outputs": [
    {
     "data": {
      "text/html": [
       "<div>\n",
       "<table border=\"1\" class=\"dataframe\">\n",
       "  <thead>\n",
       "    <tr style=\"text-align: right;\">\n",
       "      <th>gender</th>\n",
       "      <th>F</th>\n",
       "      <th>M</th>\n",
       "    </tr>\n",
       "    <tr>\n",
       "      <th>title</th>\n",
       "      <th></th>\n",
       "      <th></th>\n",
       "    </tr>\n",
       "  </thead>\n",
       "  <tbody>\n",
       "    <tr>\n",
       "      <th>Godfather, The (1972)</th>\n",
       "      <td>4.314700</td>\n",
       "      <td>4.583333</td>\n",
       "    </tr>\n",
       "    <tr>\n",
       "      <th>Seven Samurai (The Magnificent Seven) (Shichinin no samurai) (1954)</th>\n",
       "      <td>4.481132</td>\n",
       "      <td>4.576628</td>\n",
       "    </tr>\n",
       "    <tr>\n",
       "      <th>Shawshank Redemption, The (1994)</th>\n",
       "      <td>4.539075</td>\n",
       "      <td>4.560625</td>\n",
       "    </tr>\n",
       "    <tr>\n",
       "      <th>Raiders of the Lost Ark (1981)</th>\n",
       "      <td>4.332168</td>\n",
       "      <td>4.520597</td>\n",
       "    </tr>\n",
       "    <tr>\n",
       "      <th>Usual Suspects, The (1995)</th>\n",
       "      <td>4.513317</td>\n",
       "      <td>4.518248</td>\n",
       "    </tr>\n",
       "    <tr>\n",
       "      <th>Star Wars: Episode IV - A New Hope (1977)</th>\n",
       "      <td>4.302937</td>\n",
       "      <td>4.495307</td>\n",
       "    </tr>\n",
       "    <tr>\n",
       "      <th>Schindler's List (1993)</th>\n",
       "      <td>4.562602</td>\n",
       "      <td>4.491415</td>\n",
       "    </tr>\n",
       "    <tr>\n",
       "      <th>Wrong Trousers, The (1993)</th>\n",
       "      <td>4.588235</td>\n",
       "      <td>4.478261</td>\n",
       "    </tr>\n",
       "    <tr>\n",
       "      <th>Close Shave, A (1995)</th>\n",
       "      <td>4.644444</td>\n",
       "      <td>4.473795</td>\n",
       "    </tr>\n",
       "    <tr>\n",
       "      <th>Rear Window (1954)</th>\n",
       "      <td>4.484536</td>\n",
       "      <td>4.472991</td>\n",
       "    </tr>\n",
       "  </tbody>\n",
       "</table>\n",
       "</div>"
      ],
      "text/plain": [
       "gender                                                     F         M\n",
       "title                                                                 \n",
       "Godfather, The (1972)                               4.314700  4.583333\n",
       "Seven Samurai (The Magnificent Seven) (Shichini...  4.481132  4.576628\n",
       "Shawshank Redemption, The (1994)                    4.539075  4.560625\n",
       "Raiders of the Lost Ark (1981)                      4.332168  4.520597\n",
       "Usual Suspects, The (1995)                          4.513317  4.518248\n",
       "Star Wars: Episode IV - A New Hope (1977)           4.302937  4.495307\n",
       "Schindler's List (1993)                             4.562602  4.491415\n",
       "Wrong Trousers, The (1993)                          4.588235  4.478261\n",
       "Close Shave, A (1995)                               4.644444  4.473795\n",
       "Rear Window (1954)                                  4.484536  4.472991"
      ]
     },
     "execution_count": 21,
     "metadata": {},
     "output_type": "execute_result"
    }
   ],
   "source": [
    "top_male_ratings[:10]"
   ]
  },
  {
   "cell_type": "markdown",
   "metadata": {},
   "source": [
    "Suppose you wanted to find the movies that are most divisive between male and female viewers. One way is to add a column to *mean_ratings* containing the difference in means, then sort by that:"
   ]
  },
  {
   "cell_type": "code",
   "execution_count": 22,
   "metadata": {
    "collapsed": false
   },
   "outputs": [],
   "source": [
    "mean_ratings['diff'] = mean_ratings['M'] - mean_ratings['F']"
   ]
  },
  {
   "cell_type": "markdown",
   "metadata": {},
   "source": [
    "Sorting by 'diff' gives us the movies with the greatest rating difference and which were preferred by women:"
   ]
  },
  {
   "cell_type": "code",
   "execution_count": 23,
   "metadata": {
    "collapsed": false
   },
   "outputs": [],
   "source": [
    "sorted_by_diff = mean_ratings.sort_values(by='diff')"
   ]
  },
  {
   "cell_type": "code",
   "execution_count": 24,
   "metadata": {
    "collapsed": false
   },
   "outputs": [
    {
     "data": {
      "text/html": [
       "<div>\n",
       "<table border=\"1\" class=\"dataframe\">\n",
       "  <thead>\n",
       "    <tr style=\"text-align: right;\">\n",
       "      <th>gender</th>\n",
       "      <th>F</th>\n",
       "      <th>M</th>\n",
       "      <th>diff</th>\n",
       "    </tr>\n",
       "    <tr>\n",
       "      <th>title</th>\n",
       "      <th></th>\n",
       "      <th></th>\n",
       "      <th></th>\n",
       "    </tr>\n",
       "  </thead>\n",
       "  <tbody>\n",
       "    <tr>\n",
       "      <th>Dirty Dancing (1987)</th>\n",
       "      <td>3.790378</td>\n",
       "      <td>2.959596</td>\n",
       "      <td>-0.830782</td>\n",
       "    </tr>\n",
       "    <tr>\n",
       "      <th>Jumpin' Jack Flash (1986)</th>\n",
       "      <td>3.254717</td>\n",
       "      <td>2.578358</td>\n",
       "      <td>-0.676359</td>\n",
       "    </tr>\n",
       "    <tr>\n",
       "      <th>Grease (1978)</th>\n",
       "      <td>3.975265</td>\n",
       "      <td>3.367041</td>\n",
       "      <td>-0.608224</td>\n",
       "    </tr>\n",
       "    <tr>\n",
       "      <th>Little Women (1994)</th>\n",
       "      <td>3.870588</td>\n",
       "      <td>3.321739</td>\n",
       "      <td>-0.548849</td>\n",
       "    </tr>\n",
       "    <tr>\n",
       "      <th>Steel Magnolias (1989)</th>\n",
       "      <td>3.901734</td>\n",
       "      <td>3.365957</td>\n",
       "      <td>-0.535777</td>\n",
       "    </tr>\n",
       "    <tr>\n",
       "      <th>Anastasia (1997)</th>\n",
       "      <td>3.800000</td>\n",
       "      <td>3.281609</td>\n",
       "      <td>-0.518391</td>\n",
       "    </tr>\n",
       "    <tr>\n",
       "      <th>Rocky Horror Picture Show, The (1975)</th>\n",
       "      <td>3.673016</td>\n",
       "      <td>3.160131</td>\n",
       "      <td>-0.512885</td>\n",
       "    </tr>\n",
       "    <tr>\n",
       "      <th>Color Purple, The (1985)</th>\n",
       "      <td>4.158192</td>\n",
       "      <td>3.659341</td>\n",
       "      <td>-0.498851</td>\n",
       "    </tr>\n",
       "    <tr>\n",
       "      <th>Age of Innocence, The (1993)</th>\n",
       "      <td>3.827068</td>\n",
       "      <td>3.339506</td>\n",
       "      <td>-0.487561</td>\n",
       "    </tr>\n",
       "    <tr>\n",
       "      <th>Free Willy (1993)</th>\n",
       "      <td>2.921348</td>\n",
       "      <td>2.438776</td>\n",
       "      <td>-0.482573</td>\n",
       "    </tr>\n",
       "  </tbody>\n",
       "</table>\n",
       "</div>"
      ],
      "text/plain": [
       "gender                                        F         M      diff\n",
       "title                                                              \n",
       "Dirty Dancing (1987)                   3.790378  2.959596 -0.830782\n",
       "Jumpin' Jack Flash (1986)              3.254717  2.578358 -0.676359\n",
       "Grease (1978)                          3.975265  3.367041 -0.608224\n",
       "Little Women (1994)                    3.870588  3.321739 -0.548849\n",
       "Steel Magnolias (1989)                 3.901734  3.365957 -0.535777\n",
       "Anastasia (1997)                       3.800000  3.281609 -0.518391\n",
       "Rocky Horror Picture Show, The (1975)  3.673016  3.160131 -0.512885\n",
       "Color Purple, The (1985)               4.158192  3.659341 -0.498851\n",
       "Age of Innocence, The (1993)           3.827068  3.339506 -0.487561\n",
       "Free Willy (1993)                      2.921348  2.438776 -0.482573"
      ]
     },
     "execution_count": 24,
     "metadata": {},
     "output_type": "execute_result"
    }
   ],
   "source": [
    "sorted_by_diff[:10]"
   ]
  },
  {
   "cell_type": "markdown",
   "metadata": {},
   "source": [
    "Reversing the order of the rows and again slicing off the top 10 rows, we get the movies preferred by men that women didn’t rate highly:\n"
   ]
  },
  {
   "cell_type": "code",
   "execution_count": 25,
   "metadata": {
    "collapsed": false
   },
   "outputs": [
    {
     "data": {
      "text/html": [
       "<div>\n",
       "<table border=\"1\" class=\"dataframe\">\n",
       "  <thead>\n",
       "    <tr style=\"text-align: right;\">\n",
       "      <th>gender</th>\n",
       "      <th>F</th>\n",
       "      <th>M</th>\n",
       "      <th>diff</th>\n",
       "    </tr>\n",
       "    <tr>\n",
       "      <th>title</th>\n",
       "      <th></th>\n",
       "      <th></th>\n",
       "      <th></th>\n",
       "    </tr>\n",
       "  </thead>\n",
       "  <tbody>\n",
       "    <tr>\n",
       "      <th>Good, The Bad and The Ugly, The (1966)</th>\n",
       "      <td>3.494949</td>\n",
       "      <td>4.221300</td>\n",
       "      <td>0.726351</td>\n",
       "    </tr>\n",
       "    <tr>\n",
       "      <th>Kentucky Fried Movie, The (1977)</th>\n",
       "      <td>2.878788</td>\n",
       "      <td>3.555147</td>\n",
       "      <td>0.676359</td>\n",
       "    </tr>\n",
       "    <tr>\n",
       "      <th>Dumb &amp; Dumber (1994)</th>\n",
       "      <td>2.697987</td>\n",
       "      <td>3.336595</td>\n",
       "      <td>0.638608</td>\n",
       "    </tr>\n",
       "    <tr>\n",
       "      <th>Longest Day, The (1962)</th>\n",
       "      <td>3.411765</td>\n",
       "      <td>4.031447</td>\n",
       "      <td>0.619682</td>\n",
       "    </tr>\n",
       "    <tr>\n",
       "      <th>Cable Guy, The (1996)</th>\n",
       "      <td>2.250000</td>\n",
       "      <td>2.863787</td>\n",
       "      <td>0.613787</td>\n",
       "    </tr>\n",
       "    <tr>\n",
       "      <th>Evil Dead II (Dead By Dawn) (1987)</th>\n",
       "      <td>3.297297</td>\n",
       "      <td>3.909283</td>\n",
       "      <td>0.611985</td>\n",
       "    </tr>\n",
       "    <tr>\n",
       "      <th>Hidden, The (1987)</th>\n",
       "      <td>3.137931</td>\n",
       "      <td>3.745098</td>\n",
       "      <td>0.607167</td>\n",
       "    </tr>\n",
       "    <tr>\n",
       "      <th>Rocky III (1982)</th>\n",
       "      <td>2.361702</td>\n",
       "      <td>2.943503</td>\n",
       "      <td>0.581801</td>\n",
       "    </tr>\n",
       "    <tr>\n",
       "      <th>Caddyshack (1980)</th>\n",
       "      <td>3.396135</td>\n",
       "      <td>3.969737</td>\n",
       "      <td>0.573602</td>\n",
       "    </tr>\n",
       "    <tr>\n",
       "      <th>For a Few Dollars More (1965)</th>\n",
       "      <td>3.409091</td>\n",
       "      <td>3.953795</td>\n",
       "      <td>0.544704</td>\n",
       "    </tr>\n",
       "  </tbody>\n",
       "</table>\n",
       "</div>"
      ],
      "text/plain": [
       "gender                                         F         M      diff\n",
       "title                                                               \n",
       "Good, The Bad and The Ugly, The (1966)  3.494949  4.221300  0.726351\n",
       "Kentucky Fried Movie, The (1977)        2.878788  3.555147  0.676359\n",
       "Dumb & Dumber (1994)                    2.697987  3.336595  0.638608\n",
       "Longest Day, The (1962)                 3.411765  4.031447  0.619682\n",
       "Cable Guy, The (1996)                   2.250000  2.863787  0.613787\n",
       "Evil Dead II (Dead By Dawn) (1987)      3.297297  3.909283  0.611985\n",
       "Hidden, The (1987)                      3.137931  3.745098  0.607167\n",
       "Rocky III (1982)                        2.361702  2.943503  0.581801\n",
       "Caddyshack (1980)                       3.396135  3.969737  0.573602\n",
       "For a Few Dollars More (1965)           3.409091  3.953795  0.544704"
      ]
     },
     "execution_count": 25,
     "metadata": {},
     "output_type": "execute_result"
    }
   ],
   "source": [
    "sorted_by_diff[::-1][:10]"
   ]
  },
  {
   "cell_type": "markdown",
   "metadata": {},
   "source": [
    "## Data Exploration Extension\n",
    "\n",
    "* An aggregate of the movie ratings for each particular genre."
   ]
  },
  {
   "cell_type": "code",
   "execution_count": 26,
   "metadata": {
    "collapsed": false
   },
   "outputs": [],
   "source": [
    "mean_genre_ratings = data.pivot_table('rating', index='genres', aggfunc='mean')"
   ]
  },
  {
   "cell_type": "code",
   "execution_count": 27,
   "metadata": {
    "collapsed": false
   },
   "outputs": [
    {
     "data": {
      "text/plain": [
       "genres\n",
       "Action                                           3.354886\n",
       "Action|Adventure                                 3.676814\n",
       "Action|Adventure|Animation                       4.147826\n",
       "Action|Adventure|Animation|Children's|Fantasy    2.703704\n",
       "Action|Adventure|Animation|Horror|Sci-Fi         3.546926\n",
       "Name: rating, dtype: float64"
      ]
     },
     "execution_count": 27,
     "metadata": {},
     "output_type": "execute_result"
    }
   ],
   "source": [
    "mean_genre_ratings[:5]"
   ]
  },
  {
   "cell_type": "markdown",
   "metadata": {},
   "source": [
    "* The top 5 highest ranked genre by women"
   ]
  },
  {
   "cell_type": "code",
   "execution_count": 28,
   "metadata": {
    "collapsed": true
   },
   "outputs": [],
   "source": [
    "mean_genre_ratings_gender = data.pivot_table('rating', index='genres', columns='gender', aggfunc='mean')"
   ]
  },
  {
   "cell_type": "code",
   "execution_count": 29,
   "metadata": {
    "collapsed": false
   },
   "outputs": [
    {
     "data": {
      "text/html": [
       "<div>\n",
       "<table border=\"1\" class=\"dataframe\">\n",
       "  <thead>\n",
       "    <tr style=\"text-align: right;\">\n",
       "      <th>gender</th>\n",
       "      <th>F</th>\n",
       "      <th>M</th>\n",
       "    </tr>\n",
       "    <tr>\n",
       "      <th>genres</th>\n",
       "      <th></th>\n",
       "      <th></th>\n",
       "    </tr>\n",
       "  </thead>\n",
       "  <tbody>\n",
       "    <tr>\n",
       "      <th>Action</th>\n",
       "      <td>3.367474</td>\n",
       "      <td>3.352991</td>\n",
       "    </tr>\n",
       "    <tr>\n",
       "      <th>Action|Adventure</th>\n",
       "      <td>3.701213</td>\n",
       "      <td>3.671115</td>\n",
       "    </tr>\n",
       "    <tr>\n",
       "      <th>Action|Adventure|Animation</th>\n",
       "      <td>3.843750</td>\n",
       "      <td>4.217082</td>\n",
       "    </tr>\n",
       "    <tr>\n",
       "      <th>Action|Adventure|Animation|Children's|Fantasy</th>\n",
       "      <td>3.146341</td>\n",
       "      <td>2.510638</td>\n",
       "    </tr>\n",
       "    <tr>\n",
       "      <th>Action|Adventure|Animation|Horror|Sci-Fi</th>\n",
       "      <td>3.422535</td>\n",
       "      <td>3.563071</td>\n",
       "    </tr>\n",
       "  </tbody>\n",
       "</table>\n",
       "</div>"
      ],
      "text/plain": [
       "gender                                                F         M\n",
       "genres                                                           \n",
       "Action                                         3.367474  3.352991\n",
       "Action|Adventure                               3.701213  3.671115\n",
       "Action|Adventure|Animation                     3.843750  4.217082\n",
       "Action|Adventure|Animation|Children's|Fantasy  3.146341  2.510638\n",
       "Action|Adventure|Animation|Horror|Sci-Fi       3.422535  3.563071"
      ]
     },
     "execution_count": 29,
     "metadata": {},
     "output_type": "execute_result"
    }
   ],
   "source": [
    "mean_genre_ratings_gender[:5]"
   ]
  },
  {
   "cell_type": "code",
   "execution_count": 30,
   "metadata": {
    "collapsed": true
   },
   "outputs": [],
   "source": [
    "top_genre_female_ratings = mean_genre_ratings_gender.sort_values(by='F', ascending=False)"
   ]
  },
  {
   "cell_type": "code",
   "execution_count": 31,
   "metadata": {
    "collapsed": false
   },
   "outputs": [
    {
     "data": {
      "text/html": [
       "<div>\n",
       "<table border=\"1\" class=\"dataframe\">\n",
       "  <thead>\n",
       "    <tr style=\"text-align: right;\">\n",
       "      <th>gender</th>\n",
       "      <th>F</th>\n",
       "      <th>M</th>\n",
       "    </tr>\n",
       "    <tr>\n",
       "      <th>genres</th>\n",
       "      <th></th>\n",
       "      <th></th>\n",
       "    </tr>\n",
       "  </thead>\n",
       "  <tbody>\n",
       "    <tr>\n",
       "      <th>Animation|Comedy|Thriller</th>\n",
       "      <td>4.550802</td>\n",
       "      <td>4.445110</td>\n",
       "    </tr>\n",
       "    <tr>\n",
       "      <th>Animation</th>\n",
       "      <td>4.533333</td>\n",
       "      <td>4.353107</td>\n",
       "    </tr>\n",
       "    <tr>\n",
       "      <th>Film-Noir|Romance|Thriller</th>\n",
       "      <td>4.448718</td>\n",
       "      <td>4.211073</td>\n",
       "    </tr>\n",
       "    <tr>\n",
       "      <th>Sci-Fi|War</th>\n",
       "      <td>4.376623</td>\n",
       "      <td>4.464789</td>\n",
       "    </tr>\n",
       "    <tr>\n",
       "      <th>Adventure|Children's|Drama|Musical</th>\n",
       "      <td>4.355030</td>\n",
       "      <td>4.203138</td>\n",
       "    </tr>\n",
       "  </tbody>\n",
       "</table>\n",
       "</div>"
      ],
      "text/plain": [
       "gender                                     F         M\n",
       "genres                                                \n",
       "Animation|Comedy|Thriller           4.550802  4.445110\n",
       "Animation                           4.533333  4.353107\n",
       "Film-Noir|Romance|Thriller          4.448718  4.211073\n",
       "Sci-Fi|War                          4.376623  4.464789\n",
       "Adventure|Children's|Drama|Musical  4.355030  4.203138"
      ]
     },
     "execution_count": 31,
     "metadata": {},
     "output_type": "execute_result"
    }
   ],
   "source": [
    "top_genre_female_ratings[:5]"
   ]
  },
  {
   "cell_type": "markdown",
   "metadata": {},
   "source": [
    "* The top 5 highest ranked genre by men"
   ]
  },
  {
   "cell_type": "code",
   "execution_count": 32,
   "metadata": {
    "collapsed": true
   },
   "outputs": [],
   "source": [
    "top_genre_male_ratings = mean_genre_ratings_gender.sort_values(by='M', ascending=False)"
   ]
  },
  {
   "cell_type": "code",
   "execution_count": 33,
   "metadata": {
    "collapsed": false
   },
   "outputs": [
    {
     "data": {
      "text/html": [
       "<div>\n",
       "<table border=\"1\" class=\"dataframe\">\n",
       "  <thead>\n",
       "    <tr style=\"text-align: right;\">\n",
       "      <th>gender</th>\n",
       "      <th>F</th>\n",
       "      <th>M</th>\n",
       "    </tr>\n",
       "    <tr>\n",
       "      <th>genres</th>\n",
       "      <th></th>\n",
       "      <th></th>\n",
       "    </tr>\n",
       "  </thead>\n",
       "  <tbody>\n",
       "    <tr>\n",
       "      <th>Sci-Fi|War</th>\n",
       "      <td>4.376623</td>\n",
       "      <td>4.464789</td>\n",
       "    </tr>\n",
       "    <tr>\n",
       "      <th>Animation|Comedy|Thriller</th>\n",
       "      <td>4.550802</td>\n",
       "      <td>4.445110</td>\n",
       "    </tr>\n",
       "    <tr>\n",
       "      <th>Film-Noir|Mystery</th>\n",
       "      <td>4.319444</td>\n",
       "      <td>4.381536</td>\n",
       "    </tr>\n",
       "    <tr>\n",
       "      <th>Adventure|War</th>\n",
       "      <td>4.187970</td>\n",
       "      <td>4.376633</td>\n",
       "    </tr>\n",
       "    <tr>\n",
       "      <th>Animation</th>\n",
       "      <td>4.533333</td>\n",
       "      <td>4.353107</td>\n",
       "    </tr>\n",
       "  </tbody>\n",
       "</table>\n",
       "</div>"
      ],
      "text/plain": [
       "gender                            F         M\n",
       "genres                                       \n",
       "Sci-Fi|War                 4.376623  4.464789\n",
       "Animation|Comedy|Thriller  4.550802  4.445110\n",
       "Film-Noir|Mystery          4.319444  4.381536\n",
       "Adventure|War              4.187970  4.376633\n",
       "Animation                  4.533333  4.353107"
      ]
     },
     "execution_count": 33,
     "metadata": {},
     "output_type": "execute_result"
    }
   ],
   "source": [
    "top_genre_male_ratings[:5]"
   ]
  },
  {
   "cell_type": "markdown",
   "metadata": {},
   "source": [
    "* A breakdown of a movie’s ratings by age, use any movie of your choice.\n",
    "\n",
    "Plan to use movie 'One Flew Over the Cuckoo's Nest (1975)' with movie_id = 1193."
   ]
  },
  {
   "cell_type": "code",
   "execution_count": 34,
   "metadata": {
    "collapsed": true
   },
   "outputs": [],
   "source": [
    "target_movie_ratings = data[data['movie_id'] == 1193][['title', 'rating', 'age']]"
   ]
  },
  {
   "cell_type": "code",
   "execution_count": 35,
   "metadata": {
    "collapsed": false
   },
   "outputs": [
    {
     "data": {
      "text/html": [
       "<div>\n",
       "<table border=\"1\" class=\"dataframe\">\n",
       "  <thead>\n",
       "    <tr style=\"text-align: right;\">\n",
       "      <th></th>\n",
       "      <th>title</th>\n",
       "      <th>rating</th>\n",
       "      <th>age</th>\n",
       "    </tr>\n",
       "  </thead>\n",
       "  <tbody>\n",
       "    <tr>\n",
       "      <th>0</th>\n",
       "      <td>One Flew Over the Cuckoo's Nest (1975)</td>\n",
       "      <td>5</td>\n",
       "      <td>1</td>\n",
       "    </tr>\n",
       "    <tr>\n",
       "      <th>1</th>\n",
       "      <td>One Flew Over the Cuckoo's Nest (1975)</td>\n",
       "      <td>5</td>\n",
       "      <td>56</td>\n",
       "    </tr>\n",
       "    <tr>\n",
       "      <th>2</th>\n",
       "      <td>One Flew Over the Cuckoo's Nest (1975)</td>\n",
       "      <td>4</td>\n",
       "      <td>25</td>\n",
       "    </tr>\n",
       "    <tr>\n",
       "      <th>3</th>\n",
       "      <td>One Flew Over the Cuckoo's Nest (1975)</td>\n",
       "      <td>4</td>\n",
       "      <td>25</td>\n",
       "    </tr>\n",
       "    <tr>\n",
       "      <th>4</th>\n",
       "      <td>One Flew Over the Cuckoo's Nest (1975)</td>\n",
       "      <td>5</td>\n",
       "      <td>50</td>\n",
       "    </tr>\n",
       "  </tbody>\n",
       "</table>\n",
       "</div>"
      ],
      "text/plain": [
       "                                    title  rating  age\n",
       "0  One Flew Over the Cuckoo's Nest (1975)       5    1\n",
       "1  One Flew Over the Cuckoo's Nest (1975)       5   56\n",
       "2  One Flew Over the Cuckoo's Nest (1975)       4   25\n",
       "3  One Flew Over the Cuckoo's Nest (1975)       4   25\n",
       "4  One Flew Over the Cuckoo's Nest (1975)       5   50"
      ]
     },
     "execution_count": 35,
     "metadata": {},
     "output_type": "execute_result"
    }
   ],
   "source": [
    "target_movie_ratings.head()"
   ]
  },
  {
   "cell_type": "code",
   "execution_count": 36,
   "metadata": {
    "collapsed": true
   },
   "outputs": [],
   "source": [
    "target_movie_ratings_breakdown_by_age = target_movie_ratings.pivot_table('rating', index='title', columns='age', aggfunc='mean')"
   ]
  },
  {
   "cell_type": "code",
   "execution_count": 37,
   "metadata": {
    "collapsed": false,
    "scrolled": true
   },
   "outputs": [
    {
     "data": {
      "text/html": [
       "<div>\n",
       "<table border=\"1\" class=\"dataframe\">\n",
       "  <thead>\n",
       "    <tr style=\"text-align: right;\">\n",
       "      <th>age</th>\n",
       "      <th>1</th>\n",
       "      <th>18</th>\n",
       "      <th>25</th>\n",
       "      <th>35</th>\n",
       "      <th>45</th>\n",
       "      <th>50</th>\n",
       "      <th>56</th>\n",
       "    </tr>\n",
       "    <tr>\n",
       "      <th>title</th>\n",
       "      <th></th>\n",
       "      <th></th>\n",
       "      <th></th>\n",
       "      <th></th>\n",
       "      <th></th>\n",
       "      <th></th>\n",
       "      <th></th>\n",
       "    </tr>\n",
       "  </thead>\n",
       "  <tbody>\n",
       "    <tr>\n",
       "      <th>One Flew Over the Cuckoo's Nest (1975)</th>\n",
       "      <td>4.222222</td>\n",
       "      <td>4.457831</td>\n",
       "      <td>4.412371</td>\n",
       "      <td>4.389578</td>\n",
       "      <td>4.319372</td>\n",
       "      <td>4.310345</td>\n",
       "      <td>4.411765</td>\n",
       "    </tr>\n",
       "  </tbody>\n",
       "</table>\n",
       "</div>"
      ],
      "text/plain": [
       "age                                           1         18        25  \\\n",
       "title                                                                  \n",
       "One Flew Over the Cuckoo's Nest (1975)  4.222222  4.457831  4.412371   \n",
       "\n",
       "age                                           35        45        50        56  \n",
       "title                                                                           \n",
       "One Flew Over the Cuckoo's Nest (1975)  4.389578  4.319372  4.310345  4.411765  "
      ]
     },
     "execution_count": 37,
     "metadata": {},
     "output_type": "execute_result"
    }
   ],
   "source": [
    "target_movie_ratings_breakdown_by_age"
   ]
  },
  {
   "cell_type": "markdown",
   "metadata": {},
   "source": [
    "* A function that given a user_id and movie_id , returns a list of user_ids for other users that rated the movie identified by the provided movie_id with the same score. "
   ]
  },
  {
   "cell_type": "code",
   "execution_count": 38,
   "metadata": {
    "collapsed": false
   },
   "outputs": [],
   "source": [
    "def get_users_with_same_scores(user_id, movie_id):\n",
    "    ratings2 = ratings.groupby(['movie_id', 'user_id']).mean().drop(['timestamp'], axis=1)\n",
    "    target_movie_user_ratings = ratings2.loc[movie_id]\n",
    "    target_rating = target_movie_user_ratings.loc[user_id]['rating']\n",
    "    users_with_same_ratings = target_movie_user_ratings[target_movie_user_ratings['rating'] == target_rating]\n",
    "    result_list = users_with_same_ratings.index.tolist()\n",
    "    result_list.remove(user_id)\n",
    "    return result_list"
   ]
  },
  {
   "cell_type": "markdown",
   "metadata": {},
   "source": [
    "Assume we want to try this function on user_id = 1 and movie_id = 1193"
   ]
  },
  {
   "cell_type": "code",
   "execution_count": 39,
   "metadata": {
    "collapsed": false
   },
   "outputs": [
    {
     "data": {
      "text/plain": [
       "[2,\n",
       " 17,\n",
       " 19,\n",
       " 24,\n",
       " 33,\n",
       " 39,\n",
       " 53,\n",
       " 54,\n",
       " 58,\n",
       " 81,\n",
       " 88,\n",
       " 89,\n",
       " 95,\n",
       " 102,\n",
       " 107,\n",
       " 120,\n",
       " 123,\n",
       " 131,\n",
       " 150,\n",
       " 155,\n",
       " 166,\n",
       " 169,\n",
       " 175,\n",
       " 180,\n",
       " 190,\n",
       " 195,\n",
       " 208,\n",
       " 235,\n",
       " 236,\n",
       " 259,\n",
       " 261,\n",
       " 265,\n",
       " 266,\n",
       " 270,\n",
       " 281,\n",
       " 287,\n",
       " 292,\n",
       " 293,\n",
       " 297,\n",
       " 299,\n",
       " 300,\n",
       " 301,\n",
       " 306,\n",
       " 307,\n",
       " 315,\n",
       " 319,\n",
       " 327,\n",
       " 332,\n",
       " 334,\n",
       " 339,\n",
       " 352,\n",
       " 355,\n",
       " 357,\n",
       " 361,\n",
       " 409,\n",
       " 424,\n",
       " 425,\n",
       " 437,\n",
       " 438,\n",
       " 439,\n",
       " 440,\n",
       " 442,\n",
       " 445,\n",
       " 451,\n",
       " 453,\n",
       " 462,\n",
       " 477,\n",
       " 480,\n",
       " 482,\n",
       " 489,\n",
       " 491,\n",
       " 502,\n",
       " 504,\n",
       " 505,\n",
       " 507,\n",
       " 515,\n",
       " 516,\n",
       " 520,\n",
       " 524,\n",
       " 526,\n",
       " 529,\n",
       " 537,\n",
       " 549,\n",
       " 550,\n",
       " 551,\n",
       " 558,\n",
       " 560,\n",
       " 582,\n",
       " 588,\n",
       " 599,\n",
       " 611,\n",
       " 622,\n",
       " 626,\n",
       " 637,\n",
       " 650,\n",
       " 661,\n",
       " 671,\n",
       " 673,\n",
       " 677,\n",
       " 679,\n",
       " 681,\n",
       " 682,\n",
       " 692,\n",
       " 701,\n",
       " 710,\n",
       " 711,\n",
       " 743,\n",
       " 744,\n",
       " 746,\n",
       " 752,\n",
       " 760,\n",
       " 764,\n",
       " 770,\n",
       " 771,\n",
       " 774,\n",
       " 784,\n",
       " 785,\n",
       " 791,\n",
       " 833,\n",
       " 839,\n",
       " 840,\n",
       " 841,\n",
       " 843,\n",
       " 846,\n",
       " 870,\n",
       " 900,\n",
       " 919,\n",
       " 928,\n",
       " 935,\n",
       " 946,\n",
       " 957,\n",
       " 965,\n",
       " 980,\n",
       " 983,\n",
       " 994,\n",
       " 1010,\n",
       " 1015,\n",
       " 1017,\n",
       " 1018,\n",
       " 1019,\n",
       " 1027,\n",
       " 1028,\n",
       " 1035,\n",
       " 1036,\n",
       " 1038,\n",
       " 1040,\n",
       " 1048,\n",
       " 1058,\n",
       " 1062,\n",
       " 1068,\n",
       " 1077,\n",
       " 1084,\n",
       " 1088,\n",
       " 1098,\n",
       " 1099,\n",
       " 1101,\n",
       " 1105,\n",
       " 1108,\n",
       " 1113,\n",
       " 1117,\n",
       " 1121,\n",
       " 1124,\n",
       " 1133,\n",
       " 1134,\n",
       " 1165,\n",
       " 1170,\n",
       " 1172,\n",
       " 1178,\n",
       " 1180,\n",
       " 1182,\n",
       " 1197,\n",
       " 1202,\n",
       " 1203,\n",
       " 1211,\n",
       " 1216,\n",
       " 1218,\n",
       " 1224,\n",
       " 1225,\n",
       " 1228,\n",
       " 1239,\n",
       " 1243,\n",
       " 1260,\n",
       " 1264,\n",
       " 1267,\n",
       " 1273,\n",
       " 1285,\n",
       " 1289,\n",
       " 1303,\n",
       " 1305,\n",
       " 1324,\n",
       " 1331,\n",
       " 1332,\n",
       " 1333,\n",
       " 1343,\n",
       " 1349,\n",
       " 1383,\n",
       " 1390,\n",
       " 1399,\n",
       " 1411,\n",
       " 1422,\n",
       " 1423,\n",
       " 1437,\n",
       " 1440,\n",
       " 1446,\n",
       " 1447,\n",
       " 1448,\n",
       " 1449,\n",
       " 1451,\n",
       " 1457,\n",
       " 1475,\n",
       " 1477,\n",
       " 1482,\n",
       " 1517,\n",
       " 1530,\n",
       " 1536,\n",
       " 1551,\n",
       " 1552,\n",
       " 1569,\n",
       " 1590,\n",
       " 1591,\n",
       " 1592,\n",
       " 1609,\n",
       " 1613,\n",
       " 1614,\n",
       " 1618,\n",
       " 1628,\n",
       " 1631,\n",
       " 1638,\n",
       " 1639,\n",
       " 1660,\n",
       " 1676,\n",
       " 1680,\n",
       " 1681,\n",
       " 1694,\n",
       " 1701,\n",
       " 1702,\n",
       " 1720,\n",
       " 1739,\n",
       " 1741,\n",
       " 1742,\n",
       " 1744,\n",
       " 1753,\n",
       " 1758,\n",
       " 1760,\n",
       " 1768,\n",
       " 1780,\n",
       " 1800,\n",
       " 1802,\n",
       " 1812,\n",
       " 1820,\n",
       " 1824,\n",
       " 1828,\n",
       " 1836,\n",
       " 1842,\n",
       " 1843,\n",
       " 1863,\n",
       " 1869,\n",
       " 1877,\n",
       " 1882,\n",
       " 1884,\n",
       " 1894,\n",
       " 1899,\n",
       " 1909,\n",
       " 1911,\n",
       " 1914,\n",
       " 1928,\n",
       " 1940,\n",
       " 1946,\n",
       " 1947,\n",
       " 1952,\n",
       " 1959,\n",
       " 1969,\n",
       " 1980,\n",
       " 1981,\n",
       " 1988,\n",
       " 1991,\n",
       " 1996,\n",
       " 1998,\n",
       " 1999,\n",
       " 2000,\n",
       " 2007,\n",
       " 2008,\n",
       " 2010,\n",
       " 2015,\n",
       " 2018,\n",
       " 2020,\n",
       " 2030,\n",
       " 2038,\n",
       " 2039,\n",
       " 2047,\n",
       " 2050,\n",
       " 2064,\n",
       " 2073,\n",
       " 2083,\n",
       " 2084,\n",
       " 2100,\n",
       " 2102,\n",
       " 2109,\n",
       " 2122,\n",
       " 2140,\n",
       " 2153,\n",
       " 2154,\n",
       " 2165,\n",
       " 2176,\n",
       " 2181,\n",
       " 2185,\n",
       " 2200,\n",
       " 2201,\n",
       " 2208,\n",
       " 2210,\n",
       " 2219,\n",
       " 2222,\n",
       " 2231,\n",
       " 2237,\n",
       " 2243,\n",
       " 2244,\n",
       " 2253,\n",
       " 2259,\n",
       " 2264,\n",
       " 2275,\n",
       " 2281,\n",
       " 2301,\n",
       " 2303,\n",
       " 2313,\n",
       " 2324,\n",
       " 2331,\n",
       " 2332,\n",
       " 2334,\n",
       " 2338,\n",
       " 2340,\n",
       " 2345,\n",
       " 2348,\n",
       " 2368,\n",
       " 2406,\n",
       " 2410,\n",
       " 2417,\n",
       " 2421,\n",
       " 2449,\n",
       " 2451,\n",
       " 2462,\n",
       " 2465,\n",
       " 2470,\n",
       " 2472,\n",
       " 2481,\n",
       " 2485,\n",
       " 2489,\n",
       " 2496,\n",
       " 2497,\n",
       " 2507,\n",
       " 2532,\n",
       " 2534,\n",
       " 2535,\n",
       " 2543,\n",
       " 2544,\n",
       " 2547,\n",
       " 2565,\n",
       " 2569,\n",
       " 2590,\n",
       " 2604,\n",
       " 2607,\n",
       " 2608,\n",
       " 2611,\n",
       " 2619,\n",
       " 2624,\n",
       " 2626,\n",
       " 2638,\n",
       " 2641,\n",
       " 2643,\n",
       " 2650,\n",
       " 2652,\n",
       " 2665,\n",
       " 2670,\n",
       " 2673,\n",
       " 2691,\n",
       " 2694,\n",
       " 2700,\n",
       " 2704,\n",
       " 2733,\n",
       " 2750,\n",
       " 2751,\n",
       " 2752,\n",
       " 2757,\n",
       " 2762,\n",
       " 2765,\n",
       " 2766,\n",
       " 2773,\n",
       " 2786,\n",
       " 2788,\n",
       " 2790,\n",
       " 2793,\n",
       " 2803,\n",
       " 2814,\n",
       " 2825,\n",
       " 2831,\n",
       " 2838,\n",
       " 2843,\n",
       " 2854,\n",
       " 2855,\n",
       " 2859,\n",
       " 2860,\n",
       " 2878,\n",
       " 2889,\n",
       " 2892,\n",
       " 2893,\n",
       " 2901,\n",
       " 2909,\n",
       " 2914,\n",
       " 2928,\n",
       " 2929,\n",
       " 2942,\n",
       " 2946,\n",
       " 2952,\n",
       " 2957,\n",
       " 2963,\n",
       " 2964,\n",
       " 2967,\n",
       " 2974,\n",
       " 2975,\n",
       " 2978,\n",
       " 2989,\n",
       " 2990,\n",
       " 3000,\n",
       " 3001,\n",
       " 3002,\n",
       " 3005,\n",
       " 3016,\n",
       " 3020,\n",
       " 3038,\n",
       " 3042,\n",
       " 3044,\n",
       " 3054,\n",
       " 3067,\n",
       " 3069,\n",
       " 3075,\n",
       " 3078,\n",
       " 3080,\n",
       " 3081,\n",
       " 3082,\n",
       " 3108,\n",
       " 3129,\n",
       " 3131,\n",
       " 3135,\n",
       " 3136,\n",
       " 3139,\n",
       " 3146,\n",
       " 3159,\n",
       " 3163,\n",
       " 3168,\n",
       " 3172,\n",
       " 3175,\n",
       " 3180,\n",
       " 3182,\n",
       " 3187,\n",
       " 3193,\n",
       " 3198,\n",
       " 3200,\n",
       " 3201,\n",
       " 3204,\n",
       " 3215,\n",
       " 3222,\n",
       " 3224,\n",
       " 3226,\n",
       " 3229,\n",
       " 3233,\n",
       " 3245,\n",
       " 3246,\n",
       " 3251,\n",
       " 3259,\n",
       " 3260,\n",
       " 3271,\n",
       " 3280,\n",
       " 3282,\n",
       " 3284,\n",
       " 3285,\n",
       " 3287,\n",
       " 3292,\n",
       " 3299,\n",
       " 3300,\n",
       " 3301,\n",
       " 3304,\n",
       " 3306,\n",
       " 3310,\n",
       " 3322,\n",
       " 3323,\n",
       " 3336,\n",
       " 3339,\n",
       " 3344,\n",
       " 3346,\n",
       " 3351,\n",
       " 3355,\n",
       " 3359,\n",
       " 3361,\n",
       " 3367,\n",
       " 3369,\n",
       " 3371,\n",
       " 3383,\n",
       " 3391,\n",
       " 3398,\n",
       " 3400,\n",
       " 3403,\n",
       " 3411,\n",
       " 3413,\n",
       " 3415,\n",
       " 3419,\n",
       " 3420,\n",
       " 3425,\n",
       " 3428,\n",
       " 3430,\n",
       " 3462,\n",
       " 3464,\n",
       " 3475,\n",
       " 3478,\n",
       " 3481,\n",
       " 3487,\n",
       " 3493,\n",
       " 3496,\n",
       " 3502,\n",
       " 3503,\n",
       " 3506,\n",
       " 3507,\n",
       " 3514,\n",
       " 3523,\n",
       " 3534,\n",
       " 3538,\n",
       " 3541,\n",
       " 3546,\n",
       " 3551,\n",
       " 3558,\n",
       " 3567,\n",
       " 3588,\n",
       " 3590,\n",
       " 3592,\n",
       " 3596,\n",
       " 3600,\n",
       " 3612,\n",
       " 3621,\n",
       " 3626,\n",
       " 3641,\n",
       " 3647,\n",
       " 3650,\n",
       " 3651,\n",
       " 3653,\n",
       " 3658,\n",
       " 3666,\n",
       " 3668,\n",
       " 3672,\n",
       " 3673,\n",
       " 3674,\n",
       " 3681,\n",
       " 3684,\n",
       " 3685,\n",
       " 3693,\n",
       " 3704,\n",
       " 3721,\n",
       " 3729,\n",
       " 3733,\n",
       " 3735,\n",
       " 3740,\n",
       " 3756,\n",
       " 3764,\n",
       " 3773,\n",
       " 3778,\n",
       " 3785,\n",
       " 3796,\n",
       " 3805,\n",
       " 3811,\n",
       " 3813,\n",
       " 3825,\n",
       " 3830,\n",
       " 3834,\n",
       " 3835,\n",
       " 3840,\n",
       " 3842,\n",
       " 3844,\n",
       " 3848,\n",
       " 3852,\n",
       " 3853,\n",
       " 3854,\n",
       " 3864,\n",
       " 3871,\n",
       " 3877,\n",
       " 3878,\n",
       " 3880,\n",
       " 3889,\n",
       " 3899,\n",
       " 3900,\n",
       " 3912,\n",
       " 3916,\n",
       " 3918,\n",
       " 3930,\n",
       " 3936,\n",
       " 3940,\n",
       " 3945,\n",
       " 3947,\n",
       " 3959,\n",
       " 3963,\n",
       " 3967,\n",
       " 3976,\n",
       " 3978,\n",
       " 3981,\n",
       " 4009,\n",
       " 4019,\n",
       " 4024,\n",
       " 4029,\n",
       " 4040,\n",
       " 4046,\n",
       " 4050,\n",
       " 4058,\n",
       " 4064,\n",
       " 4072,\n",
       " 4081,\n",
       " 4084,\n",
       " 4085,\n",
       " 4088,\n",
       " 4090,\n",
       " 4092,\n",
       " 4093,\n",
       " 4103,\n",
       " 4107,\n",
       " 4118,\n",
       " 4123,\n",
       " 4125,\n",
       " 4129,\n",
       " 4134,\n",
       " 4150,\n",
       " 4152,\n",
       " 4159,\n",
       " 4167,\n",
       " 4169,\n",
       " 4193,\n",
       " 4195,\n",
       " 4204,\n",
       " 4207,\n",
       " 4209,\n",
       " 4210,\n",
       " 4215,\n",
       " 4221,\n",
       " 4233,\n",
       " 4238,\n",
       " 4253,\n",
       " 4271,\n",
       " 4273,\n",
       " 4277,\n",
       " 4286,\n",
       " 4303,\n",
       " 4305,\n",
       " 4310,\n",
       " 4313,\n",
       " 4318,\n",
       " 4324,\n",
       " 4337,\n",
       " 4344,\n",
       " 4356,\n",
       " 4361,\n",
       " 4363,\n",
       " 4364,\n",
       " 4373,\n",
       " 4384,\n",
       " 4386,\n",
       " 4388,\n",
       " 4397,\n",
       " 4404,\n",
       " 4405,\n",
       " 4406,\n",
       " 4408,\n",
       " 4410,\n",
       " 4424,\n",
       " 4429,\n",
       " 4431,\n",
       " 4432,\n",
       " 4442,\n",
       " 4445,\n",
       " 4448,\n",
       " 4457,\n",
       " 4463,\n",
       " 4466,\n",
       " 4469,\n",
       " 4474,\n",
       " 4480,\n",
       " 4482,\n",
       " 4484,\n",
       " 4505,\n",
       " 4506,\n",
       " 4509,\n",
       " 4510,\n",
       " 4513,\n",
       " 4531,\n",
       " 4543,\n",
       " 4556,\n",
       " 4564,\n",
       " 4580,\n",
       " 4589,\n",
       " 4595,\n",
       " 4598,\n",
       " 4607,\n",
       " 4637,\n",
       " 4647,\n",
       " 4666,\n",
       " 4667,\n",
       " 4673,\n",
       " 4682,\n",
       " 4686,\n",
       " 4688,\n",
       " 4701,\n",
       " 4702,\n",
       " 4708,\n",
       " 4715,\n",
       " 4717,\n",
       " 4728,\n",
       " 4745,\n",
       " 4753,\n",
       " 4757,\n",
       " 4761,\n",
       " 4762,\n",
       " 4765,\n",
       " 4771,\n",
       " 4786,\n",
       " 4787,\n",
       " 4802,\n",
       " 4806,\n",
       " 4815,\n",
       " 4820,\n",
       " 4823,\n",
       " 4824,\n",
       " 4825,\n",
       " 4831,\n",
       " 4848,\n",
       " 4852,\n",
       " 4858,\n",
       " 4861,\n",
       " 4867,\n",
       " 4869,\n",
       " 4873,\n",
       " 4882,\n",
       " 4885,\n",
       " 4888,\n",
       " 4898,\n",
       " 4901,\n",
       " 4903,\n",
       " 4904,\n",
       " 4906,\n",
       " 4913,\n",
       " 4921,\n",
       " 4923,\n",
       " 4936,\n",
       " 4945,\n",
       " 4953,\n",
       " 4957,\n",
       " 4962,\n",
       " 4975,\n",
       " 4979,\n",
       " 4983,\n",
       " 4984,\n",
       " 4990,\n",
       " 4991,\n",
       " 5005,\n",
       " 5013,\n",
       " 5015,\n",
       " 5017,\n",
       " 5018,\n",
       " 5021,\n",
       " 5025,\n",
       " 5034,\n",
       " 5038,\n",
       " 5041,\n",
       " 5042,\n",
       " 5057,\n",
       " 5058,\n",
       " 5064,\n",
       " 5065,\n",
       " 5066,\n",
       " 5069,\n",
       " 5070,\n",
       " 5073,\n",
       " 5074,\n",
       " 5077,\n",
       " 5090,\n",
       " 5094,\n",
       " 5095,\n",
       " 5097,\n",
       " 5100,\n",
       " 5110,\n",
       " 5111,\n",
       " 5130,\n",
       " 5134,\n",
       " 5140,\n",
       " 5153,\n",
       " 5156,\n",
       " 5158,\n",
       " 5161,\n",
       " 5163,\n",
       " 5165,\n",
       " 5166,\n",
       " 5168,\n",
       " 5175,\n",
       " 5180,\n",
       " 5185,\n",
       " 5206,\n",
       " 5224,\n",
       " 5233,\n",
       " 5239,\n",
       " 5252,\n",
       " 5261,\n",
       " 5264,\n",
       " 5269,\n",
       " 5277,\n",
       " 5281,\n",
       " 5289,\n",
       " 5290,\n",
       " 5300,\n",
       " 5305,\n",
       " 5317,\n",
       " 5321,\n",
       " 5323,\n",
       " 5329,\n",
       " 5349,\n",
       " 5352,\n",
       " 5353,\n",
       " 5367,\n",
       " 5369,\n",
       " 5371,\n",
       " 5394,\n",
       " 5395,\n",
       " 5397,\n",
       " 5404,\n",
       " 5421,\n",
       " 5423,\n",
       " 5425,\n",
       " 5427,\n",
       " 5428,\n",
       " 5430,\n",
       " 5433,\n",
       " 5441,\n",
       " 5443,\n",
       " 5453,\n",
       " 5454,\n",
       " 5458,\n",
       " 5463,\n",
       " 5468,\n",
       " 5475,\n",
       " 5482,\n",
       " 5502,\n",
       " 5504,\n",
       " 5509,\n",
       " 5520,\n",
       " 5526,\n",
       " 5528,\n",
       " 5541,\n",
       " 5542,\n",
       " 5545,\n",
       " 5550,\n",
       " 5557,\n",
       " 5567,\n",
       " 5577,\n",
       " 5580,\n",
       " 5582,\n",
       " 5596,\n",
       " 5600,\n",
       " 5614,\n",
       " 5616,\n",
       " 5620,\n",
       " 5621,\n",
       " 5626,\n",
       " 5629,\n",
       " 5631,\n",
       " 5639,\n",
       " 5643,\n",
       " 5647,\n",
       " 5650,\n",
       " 5665,\n",
       " 5667,\n",
       " 5676,\n",
       " 5680,\n",
       " 5690,\n",
       " 5695,\n",
       " 5698,\n",
       " 5733,\n",
       " 5734,\n",
       " 5737,\n",
       " 5739,\n",
       " 5744,\n",
       " 5752,\n",
       " 5755,\n",
       " 5757,\n",
       " 5759,\n",
       " 5762,\n",
       " 5763,\n",
       " 5770,\n",
       " 5775,\n",
       " 5777,\n",
       " 5779,\n",
       " 5786,\n",
       " 5790,\n",
       " 5791,\n",
       " 5792,\n",
       " 5795,\n",
       " 5808,\n",
       " 5812,\n",
       " 5815,\n",
       " 5825,\n",
       " 5826,\n",
       " 5838,\n",
       " 5845,\n",
       " 5846,\n",
       " 5848,\n",
       " 5852,\n",
       " 5859,\n",
       " 5865,\n",
       " 5868,\n",
       " 5888,\n",
       " 5890,\n",
       " 5911,\n",
       " 5917,\n",
       " 5920,\n",
       " 5924,\n",
       " 5942,\n",
       " 5948,\n",
       " 5949,\n",
       " 5950,\n",
       " 5954,\n",
       " 5956,\n",
       " 5958,\n",
       " 5962,\n",
       " 5964,\n",
       " 5965,\n",
       " 5975,\n",
       " 5977,\n",
       " 5978,\n",
       " 5986,\n",
       " 6001,\n",
       " 6002,\n",
       " 6021,\n",
       " 6032,\n",
       " 6033,\n",
       " 6035,\n",
       " 6036]"
      ]
     },
     "execution_count": 39,
     "metadata": {},
     "output_type": "execute_result"
    }
   ],
   "source": [
    "get_users_with_same_scores(1, 1193)"
   ]
  },
  {
   "cell_type": "markdown",
   "metadata": {},
   "source": [
    "# Additional Ideas\n",
    "\n",
    "* What are the 10 most rated movies? And what are their ratings?"
   ]
  },
  {
   "cell_type": "code",
   "execution_count": 40,
   "metadata": {
    "collapsed": true
   },
   "outputs": [],
   "source": [
    "most_rated10 = data.groupby('title').size().sort_values(ascending=False)[:10]"
   ]
  },
  {
   "cell_type": "code",
   "execution_count": 41,
   "metadata": {
    "collapsed": false
   },
   "outputs": [
    {
     "data": {
      "text/plain": [
       "title\n",
       "American Beauty (1999)                                   3428\n",
       "Star Wars: Episode IV - A New Hope (1977)                2991\n",
       "Star Wars: Episode V - The Empire Strikes Back (1980)    2990\n",
       "Star Wars: Episode VI - Return of the Jedi (1983)        2883\n",
       "Jurassic Park (1993)                                     2672\n",
       "Saving Private Ryan (1998)                               2653\n",
       "Terminator 2: Judgment Day (1991)                        2649\n",
       "Matrix, The (1999)                                       2590\n",
       "Back to the Future (1985)                                2583\n",
       "Silence of the Lambs, The (1991)                         2578\n",
       "dtype: int64"
      ]
     },
     "execution_count": 41,
     "metadata": {},
     "output_type": "execute_result"
    }
   ],
   "source": [
    "most_rated10"
   ]
  },
  {
   "cell_type": "code",
   "execution_count": 42,
   "metadata": {
    "collapsed": true
   },
   "outputs": [],
   "source": [
    "general_mean_ratings = data.pivot_table('rating', index='title', aggfunc='mean')"
   ]
  },
  {
   "cell_type": "code",
   "execution_count": 43,
   "metadata": {
    "collapsed": false
   },
   "outputs": [],
   "source": [
    "general_top_10_mean_ratings = general_mean_ratings[general_mean_ratings.index.isin(most_rated10.index)].to_frame().sort_values(['rating'], ascending=False)"
   ]
  },
  {
   "cell_type": "code",
   "execution_count": 46,
   "metadata": {
    "collapsed": false,
    "scrolled": true
   },
   "outputs": [
    {
     "data": {
      "text/html": [
       "<div>\n",
       "<table border=\"1\" class=\"dataframe\">\n",
       "  <thead>\n",
       "    <tr style=\"text-align: right;\">\n",
       "      <th></th>\n",
       "      <th>rating</th>\n",
       "    </tr>\n",
       "    <tr>\n",
       "      <th>title</th>\n",
       "      <th></th>\n",
       "    </tr>\n",
       "  </thead>\n",
       "  <tbody>\n",
       "    <tr>\n",
       "      <th>Star Wars: Episode IV - A New Hope (1977)</th>\n",
       "      <td>4.453694</td>\n",
       "    </tr>\n",
       "    <tr>\n",
       "      <th>Silence of the Lambs, The (1991)</th>\n",
       "      <td>4.351823</td>\n",
       "    </tr>\n",
       "    <tr>\n",
       "      <th>Saving Private Ryan (1998)</th>\n",
       "      <td>4.337354</td>\n",
       "    </tr>\n",
       "    <tr>\n",
       "      <th>American Beauty (1999)</th>\n",
       "      <td>4.317386</td>\n",
       "    </tr>\n",
       "    <tr>\n",
       "      <th>Matrix, The (1999)</th>\n",
       "      <td>4.315830</td>\n",
       "    </tr>\n",
       "    <tr>\n",
       "      <th>Star Wars: Episode V - The Empire Strikes Back (1980)</th>\n",
       "      <td>4.292977</td>\n",
       "    </tr>\n",
       "    <tr>\n",
       "      <th>Terminator 2: Judgment Day (1991)</th>\n",
       "      <td>4.058513</td>\n",
       "    </tr>\n",
       "    <tr>\n",
       "      <th>Star Wars: Episode VI - Return of the Jedi (1983)</th>\n",
       "      <td>4.022893</td>\n",
       "    </tr>\n",
       "    <tr>\n",
       "      <th>Back to the Future (1985)</th>\n",
       "      <td>3.990321</td>\n",
       "    </tr>\n",
       "    <tr>\n",
       "      <th>Jurassic Park (1993)</th>\n",
       "      <td>3.763847</td>\n",
       "    </tr>\n",
       "  </tbody>\n",
       "</table>\n",
       "</div>"
      ],
      "text/plain": [
       "                                                      rating\n",
       "title                                                       \n",
       "Star Wars: Episode IV - A New Hope (1977)           4.453694\n",
       "Silence of the Lambs, The (1991)                    4.351823\n",
       "Saving Private Ryan (1998)                          4.337354\n",
       "American Beauty (1999)                              4.317386\n",
       "Matrix, The (1999)                                  4.315830\n",
       "Star Wars: Episode V - The Empire Strikes Back ...  4.292977\n",
       "Terminator 2: Judgment Day (1991)                   4.058513\n",
       "Star Wars: Episode VI - Return of the Jedi (1983)   4.022893\n",
       "Back to the Future (1985)                           3.990321\n",
       "Jurassic Park (1993)                                3.763847"
      ]
     },
     "execution_count": 46,
     "metadata": {},
     "output_type": "execute_result"
    }
   ],
   "source": [
    "general_top_10_mean_ratings"
   ]
  },
  {
   "cell_type": "markdown",
   "metadata": {},
   "source": [
    "We can see that the 10 most rated movies are rated more than 2500 times. And their ratings are close or above 4.0. This means these 10 movies are quite popular among people. Whoever wants to find good movies can refer to this list."
   ]
  },
  {
   "cell_type": "markdown",
   "metadata": {},
   "source": [
    "* Among the 10 most rated movies, whichi one do men and women most disagree on?"
   ]
  },
  {
   "cell_type": "code",
   "execution_count": 47,
   "metadata": {
    "collapsed": false
   },
   "outputs": [],
   "source": [
    "top_10_ratings_gender = mean_ratings[mean_ratings.index.isin(most_rated10.index)].sort_values(['diff'], ascending=False)"
   ]
  },
  {
   "cell_type": "code",
   "execution_count": 48,
   "metadata": {
    "collapsed": false
   },
   "outputs": [
    {
     "data": {
      "text/html": [
       "<div>\n",
       "<table border=\"1\" class=\"dataframe\">\n",
       "  <thead>\n",
       "    <tr style=\"text-align: right;\">\n",
       "      <th>gender</th>\n",
       "      <th>F</th>\n",
       "      <th>M</th>\n",
       "      <th>diff</th>\n",
       "    </tr>\n",
       "    <tr>\n",
       "      <th>title</th>\n",
       "      <th></th>\n",
       "      <th></th>\n",
       "      <th></th>\n",
       "    </tr>\n",
       "  </thead>\n",
       "  <tbody>\n",
       "    <tr>\n",
       "      <th>Terminator 2: Judgment Day (1991)</th>\n",
       "      <td>3.785088</td>\n",
       "      <td>4.115367</td>\n",
       "      <td>0.330279</td>\n",
       "    </tr>\n",
       "    <tr>\n",
       "      <th>Saving Private Ryan (1998)</th>\n",
       "      <td>4.114783</td>\n",
       "      <td>4.398941</td>\n",
       "      <td>0.284159</td>\n",
       "    </tr>\n",
       "    <tr>\n",
       "      <th>Star Wars: Episode V - The Empire Strikes Back (1980)</th>\n",
       "      <td>4.106481</td>\n",
       "      <td>4.344577</td>\n",
       "      <td>0.238096</td>\n",
       "    </tr>\n",
       "    <tr>\n",
       "      <th>Jurassic Park (1993)</th>\n",
       "      <td>3.579407</td>\n",
       "      <td>3.814197</td>\n",
       "      <td>0.234791</td>\n",
       "    </tr>\n",
       "    <tr>\n",
       "      <th>Matrix, The (1999)</th>\n",
       "      <td>4.128405</td>\n",
       "      <td>4.362235</td>\n",
       "      <td>0.233830</td>\n",
       "    </tr>\n",
       "    <tr>\n",
       "      <th>Star Wars: Episode VI - Return of the Jedi (1983)</th>\n",
       "      <td>3.865237</td>\n",
       "      <td>4.069058</td>\n",
       "      <td>0.203821</td>\n",
       "    </tr>\n",
       "    <tr>\n",
       "      <th>Star Wars: Episode IV - A New Hope (1977)</th>\n",
       "      <td>4.302937</td>\n",
       "      <td>4.495307</td>\n",
       "      <td>0.192371</td>\n",
       "    </tr>\n",
       "    <tr>\n",
       "      <th>Silence of the Lambs, The (1991)</th>\n",
       "      <td>4.271955</td>\n",
       "      <td>4.381944</td>\n",
       "      <td>0.109990</td>\n",
       "    </tr>\n",
       "    <tr>\n",
       "      <th>American Beauty (1999)</th>\n",
       "      <td>4.238901</td>\n",
       "      <td>4.347301</td>\n",
       "      <td>0.108400</td>\n",
       "    </tr>\n",
       "    <tr>\n",
       "      <th>Back to the Future (1985)</th>\n",
       "      <td>3.932707</td>\n",
       "      <td>4.009259</td>\n",
       "      <td>0.076552</td>\n",
       "    </tr>\n",
       "  </tbody>\n",
       "</table>\n",
       "</div>"
      ],
      "text/plain": [
       "gender                                                     F         M  \\\n",
       "title                                                                    \n",
       "Terminator 2: Judgment Day (1991)                   3.785088  4.115367   \n",
       "Saving Private Ryan (1998)                          4.114783  4.398941   \n",
       "Star Wars: Episode V - The Empire Strikes Back ...  4.106481  4.344577   \n",
       "Jurassic Park (1993)                                3.579407  3.814197   \n",
       "Matrix, The (1999)                                  4.128405  4.362235   \n",
       "Star Wars: Episode VI - Return of the Jedi (1983)   3.865237  4.069058   \n",
       "Star Wars: Episode IV - A New Hope (1977)           4.302937  4.495307   \n",
       "Silence of the Lambs, The (1991)                    4.271955  4.381944   \n",
       "American Beauty (1999)                              4.238901  4.347301   \n",
       "Back to the Future (1985)                           3.932707  4.009259   \n",
       "\n",
       "gender                                                  diff  \n",
       "title                                                         \n",
       "Terminator 2: Judgment Day (1991)                   0.330279  \n",
       "Saving Private Ryan (1998)                          0.284159  \n",
       "Star Wars: Episode V - The Empire Strikes Back ...  0.238096  \n",
       "Jurassic Park (1993)                                0.234791  \n",
       "Matrix, The (1999)                                  0.233830  \n",
       "Star Wars: Episode VI - Return of the Jedi (1983)   0.203821  \n",
       "Star Wars: Episode IV - A New Hope (1977)           0.192371  \n",
       "Silence of the Lambs, The (1991)                    0.109990  \n",
       "American Beauty (1999)                              0.108400  \n",
       "Back to the Future (1985)                           0.076552  "
      ]
     },
     "execution_count": 48,
     "metadata": {},
     "output_type": "execute_result"
    }
   ],
   "source": [
    "top_10_ratings_gender"
   ]
  },
  {
   "cell_type": "code",
   "execution_count": 49,
   "metadata": {
    "collapsed": false
   },
   "outputs": [
    {
     "data": {
      "image/png": "[encoded data removed]",
      "text/plain": [
       "<matplotlib.figure.Figure at 0x111f9b320>"
      ]
     },
     "metadata": {},
     "output_type": "display_data"
    }
   ],
   "source": [
    "import matplotlib.pyplot as plt\n",
    "import pylab\n",
    "\n",
    "disagreements = top_10_ratings_gender['diff']\n",
    "disagreements.sort_values().plot(kind='barh', figsize=[3, 5])\n",
    "plt.title('Male vs. Female Avg. Ratings\\n(Difference > 0 = Favored by Men)')\n",
    "plt.ylabel('Title')\n",
    "plt.xlabel('Average Rating Difference');\n",
    "pylab.show()"
   ]
  },
  {
   "cell_type": "markdown",
   "metadata": {},
   "source": [
    "It is interesting to see that the top 10 movies are all favoured by men. Possibly because the genres are mostly action/sci-fi. Therefore if we are doing a '10 most highly-rated movies', we may need to consider a male version and a female version. "
   ]
  },
  {
   "cell_type": "markdown",
   "metadata": {},
   "source": [
    "* What genres do men and women most disagree on?"
   ]
  },
  {
   "cell_type": "code",
   "execution_count": 50,
   "metadata": {
    "collapsed": true
   },
   "outputs": [],
   "source": [
    "mean_genre_ratings_gender['diff'] = mean_genre_ratings_gender.M - mean_genre_ratings_gender.F"
   ]
  },
  {
   "cell_type": "code",
   "execution_count": 51,
   "metadata": {
    "collapsed": false
   },
   "outputs": [
    {
     "data": {
      "text/html": [
       "<div>\n",
       "<table border=\"1\" class=\"dataframe\">\n",
       "  <thead>\n",
       "    <tr style=\"text-align: right;\">\n",
       "      <th>gender</th>\n",
       "      <th>F</th>\n",
       "      <th>M</th>\n",
       "      <th>diff</th>\n",
       "    </tr>\n",
       "    <tr>\n",
       "      <th>genres</th>\n",
       "      <th></th>\n",
       "      <th></th>\n",
       "      <th></th>\n",
       "    </tr>\n",
       "  </thead>\n",
       "  <tbody>\n",
       "    <tr>\n",
       "      <th>Comedy|Film-Noir|Thriller</th>\n",
       "      <td>1.000000</td>\n",
       "      <td>2.250000</td>\n",
       "      <td>1.250000</td>\n",
       "    </tr>\n",
       "    <tr>\n",
       "      <th>Crime|Mystery</th>\n",
       "      <td>2.687500</td>\n",
       "      <td>3.360656</td>\n",
       "      <td>0.673156</td>\n",
       "    </tr>\n",
       "    <tr>\n",
       "      <th>Action|Adventure|Comedy|Horror</th>\n",
       "      <td>3.297297</td>\n",
       "      <td>3.909283</td>\n",
       "      <td>0.611985</td>\n",
       "    </tr>\n",
       "    <tr>\n",
       "      <th>Action|Western</th>\n",
       "      <td>3.541667</td>\n",
       "      <td>4.144167</td>\n",
       "      <td>0.602500</td>\n",
       "    </tr>\n",
       "    <tr>\n",
       "      <th>Action|Animation|Children's|Sci-Fi|Thriller|War</th>\n",
       "      <td>2.857143</td>\n",
       "      <td>3.433333</td>\n",
       "      <td>0.576190</td>\n",
       "    </tr>\n",
       "  </tbody>\n",
       "</table>\n",
       "</div>"
      ],
      "text/plain": [
       "gender                                                  F         M      diff\n",
       "genres                                                                       \n",
       "Comedy|Film-Noir|Thriller                        1.000000  2.250000  1.250000\n",
       "Crime|Mystery                                    2.687500  3.360656  0.673156\n",
       "Action|Adventure|Comedy|Horror                   3.297297  3.909283  0.611985\n",
       "Action|Western                                   3.541667  4.144167  0.602500\n",
       "Action|Animation|Children's|Sci-Fi|Thriller|War  2.857143  3.433333  0.576190"
      ]
     },
     "execution_count": 51,
     "metadata": {},
     "output_type": "execute_result"
    }
   ],
   "source": [
    "mean_genre_ratings_gender.sort_values(['diff'], ascending=False).head()"
   ]
  },
  {
   "cell_type": "code",
   "execution_count": 52,
   "metadata": {
    "collapsed": false
   },
   "outputs": [
    {
     "data": {
      "text/html": [
       "<div>\n",
       "<table border=\"1\" class=\"dataframe\">\n",
       "  <thead>\n",
       "    <tr style=\"text-align: right;\">\n",
       "      <th>gender</th>\n",
       "      <th>F</th>\n",
       "      <th>M</th>\n",
       "      <th>diff</th>\n",
       "    </tr>\n",
       "    <tr>\n",
       "      <th>genres</th>\n",
       "      <th></th>\n",
       "      <th></th>\n",
       "      <th></th>\n",
       "    </tr>\n",
       "  </thead>\n",
       "  <tbody>\n",
       "    <tr>\n",
       "      <th>Children's|Musical</th>\n",
       "      <td>3.859504</td>\n",
       "      <td>3.286325</td>\n",
       "      <td>-0.573179</td>\n",
       "    </tr>\n",
       "    <tr>\n",
       "      <th>Action|Adventure|Animation|Children's|Fantasy</th>\n",
       "      <td>3.146341</td>\n",
       "      <td>2.510638</td>\n",
       "      <td>-0.635703</td>\n",
       "    </tr>\n",
       "    <tr>\n",
       "      <th>Action|Comedy|Romance|Thriller</th>\n",
       "      <td>3.254717</td>\n",
       "      <td>2.578358</td>\n",
       "      <td>-0.676359</td>\n",
       "    </tr>\n",
       "    <tr>\n",
       "      <th>Children's|Drama|Fantasy</th>\n",
       "      <td>3.538462</td>\n",
       "      <td>2.756410</td>\n",
       "      <td>-0.782051</td>\n",
       "    </tr>\n",
       "    <tr>\n",
       "      <th>Fantasy</th>\n",
       "      <td>NaN</td>\n",
       "      <td>4.000000</td>\n",
       "      <td>NaN</td>\n",
       "    </tr>\n",
       "  </tbody>\n",
       "</table>\n",
       "</div>"
      ],
      "text/plain": [
       "gender                                                F         M      diff\n",
       "genres                                                                     \n",
       "Children's|Musical                             3.859504  3.286325 -0.573179\n",
       "Action|Adventure|Animation|Children's|Fantasy  3.146341  2.510638 -0.635703\n",
       "Action|Comedy|Romance|Thriller                 3.254717  2.578358 -0.676359\n",
       "Children's|Drama|Fantasy                       3.538462  2.756410 -0.782051\n",
       "Fantasy                                             NaN  4.000000       NaN"
      ]
     },
     "execution_count": 52,
     "metadata": {},
     "output_type": "execute_result"
    }
   ],
   "source": [
    "mean_genre_ratings_gender.sort_values(['diff'], ascending=False).tail()"
   ]
  },
  {
   "cell_type": "markdown",
   "metadata": {},
   "source": [
    "The first table shows genres more flavored by men, and the second table shows genres more flavored by women. It is interesting to see that men prefer action movies, and female prefer children movies. We can take this into consideration when doing a '10 most highly-rated movies' recommendation like I mentioned above. I know that the data for genres is not the best. We will get more clear results if we separate the genres, so that each row will have only one genre, instead of the current mixed genres. We can achieve as follow-ups later on."
   ]
  }
 ],
 "metadata": {
  "kernelspec": {
   "display_name": "Python 3",
   "language": "python",
   "name": "python3"
  },
  "language_info": {
   "codemirror_mode": {
    "name": "ipython",
    "version": 3
   },
   "file_extension": ".py",
   "mimetype": "text/x-python",
   "name": "python",
   "nbconvert_exporter": "python",
   "pygments_lexer": "ipython3",
   "version": "3.4.5"
  }
 },
 "nbformat": 4,
 "nbformat_minor": 0
}
